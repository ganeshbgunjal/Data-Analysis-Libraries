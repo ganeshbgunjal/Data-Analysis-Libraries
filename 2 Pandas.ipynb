{
 "cells": [
  {
   "cell_type": "markdown",
   "id": "c6c39a63-3733-42b9-847f-44420016039f",
   "metadata": {},
   "source": [
    "### Pandas:"
   ]
  },
  {
   "cell_type": "markdown",
   "id": "3b1dae9c-fefc-4c8e-967f-29819fa262b4",
   "metadata": {},
   "source": [
    "#### What is Pandas?\n",
    "\n",
    "**Pandas** is a Python library used for data manipulation and analysis.\n",
    "It is built on top of NumPy and gives you two main data structures:\n",
    "\n",
    "**Series** → 1D labeled array (like an Excel column).\n",
    "\n",
    "**DataFrame** → 2D table with rows & columns (like an Excel sheet or SQL table)."
   ]
  },
  {
   "cell_type": "code",
   "execution_count": 1,
   "id": "95d48141-b42d-4cfc-a280-40a2adb7ebb4",
   "metadata": {},
   "outputs": [],
   "source": [
    "import pandas as pd"
   ]
  },
  {
   "cell_type": "markdown",
   "id": "d780dc8f-bef9-493a-9016-27b655d92e42",
   "metadata": {},
   "source": [
    "**Pandas** is 1D array that holds any kind of data type."
   ]
  },
  {
   "cell_type": "code",
   "execution_count": 3,
   "id": "d17ce753-5783-4e64-87b0-9e9b6b0638bd",
   "metadata": {},
   "outputs": [
    {
     "name": "stdout",
     "output_type": "stream",
     "text": [
      "0    1\n",
      "1    2\n",
      "2    3\n",
      "3    4\n",
      "4    5\n",
      "dtype: int64\n",
      "<class 'pandas.core.series.Series'>\n"
     ]
    }
   ],
   "source": [
    "data = [1,2,3,4,5]\n",
    "series = pd.Series(data)\n",
    "print(series)\n",
    "print(type(series))"
   ]
  },
  {
   "cell_type": "markdown",
   "id": "2fe3e090-4ba0-4bc5-8c42-e081cb0bca66",
   "metadata": {},
   "source": [
    "#### Create a Series from dictionary:-"
   ]
  },
  {
   "cell_type": "code",
   "execution_count": 4,
   "id": "5740d214-da5b-4e79-94ee-11fee25c65e8",
   "metadata": {},
   "outputs": [
    {
     "name": "stdout",
     "output_type": "stream",
     "text": [
      "a    1\n",
      "b    2\n",
      "c    3\n",
      "d    4\n",
      "dtype: int64\n"
     ]
    }
   ],
   "source": [
    "data = {'a':1,'b':2,'c':3,'d':4}\n",
    "series = pd.Series(data)\n",
    "print(series)"
   ]
  },
  {
   "cell_type": "code",
   "execution_count": 6,
   "id": "84030f4e-9fdb-4335-8ee8-3b5edc737888",
   "metadata": {},
   "outputs": [
    {
     "name": "stdout",
     "output_type": "stream",
     "text": [
      "a    10\n",
      "b    20\n",
      "c    30\n",
      "dtype: int64\n"
     ]
    }
   ],
   "source": [
    "data = [10,20,30]\n",
    "index = ['a','b','c']\n",
    "\n",
    "series = pd.Series(data,index=index)    #data and index must same length.\n",
    "print(series)"
   ]
  },
  {
   "cell_type": "code",
   "execution_count": null,
   "id": "9c94313e-0cda-4492-a0c0-c9597a184e16",
   "metadata": {},
   "outputs": [],
   "source": []
  }
 ],
 "metadata": {
  "kernelspec": {
   "display_name": "Python 3 (ipykernel)",
   "language": "python",
   "name": "python3"
  },
  "language_info": {
   "codemirror_mode": {
    "name": "ipython",
    "version": 3
   },
   "file_extension": ".py",
   "mimetype": "text/x-python",
   "name": "python",
   "nbconvert_exporter": "python",
   "pygments_lexer": "ipython3",
   "version": "3.13.5"
  }
 },
 "nbformat": 4,
 "nbformat_minor": 5
}
