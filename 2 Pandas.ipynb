{
 "cells": [
  {
   "cell_type": "markdown",
   "id": "c6c39a63-3733-42b9-847f-44420016039f",
   "metadata": {},
   "source": [
    "### Pandas:"
   ]
  },
  {
   "cell_type": "markdown",
   "id": "3b1dae9c-fefc-4c8e-967f-29819fa262b4",
   "metadata": {},
   "source": [
    "#### What is Pandas?\n",
    "\n",
    "**Pandas** is a Python library used for data manipulation and analysis.\n",
    "It is built on top of NumPy and gives you two main data structures:\n",
    "\n",
    "**Series** → 1D labeled array (like an Excel column).\n",
    "\n",
    "**DataFrame** → 2D table with rows & columns (like an Excel sheet or SQL table)."
   ]
  },
  {
   "cell_type": "code",
   "execution_count": 1,
   "id": "95d48141-b42d-4cfc-a280-40a2adb7ebb4",
   "metadata": {},
   "outputs": [],
   "source": [
    "import pandas as pd"
   ]
  },
  {
   "cell_type": "markdown",
   "id": "d780dc8f-bef9-493a-9016-27b655d92e42",
   "metadata": {},
   "source": [
    "**Pandas** is 1D array that holds any kind of data type."
   ]
  },
  {
   "cell_type": "code",
   "execution_count": 3,
   "id": "d17ce753-5783-4e64-87b0-9e9b6b0638bd",
   "metadata": {},
   "outputs": [
    {
     "name": "stdout",
     "output_type": "stream",
     "text": [
      "0    1\n",
      "1    2\n",
      "2    3\n",
      "3    4\n",
      "4    5\n",
      "dtype: int64\n",
      "<class 'pandas.core.series.Series'>\n"
     ]
    }
   ],
   "source": [
    "data = [1,2,3,4,5]\n",
    "series = pd.Series(data)\n",
    "print(series)\n",
    "print(type(series))"
   ]
  },
  {
   "cell_type": "code",
   "execution_count": null,
   "id": "c8d9f686-8a0c-4156-b399-d5881a2ca140",
   "metadata": {},
   "outputs": [],
   "source": []
  }
 ],
 "metadata": {
  "kernelspec": {
   "display_name": "Python 3 (ipykernel)",
   "language": "python",
   "name": "python3"
  },
  "language_info": {
   "codemirror_mode": {
    "name": "ipython",
    "version": 3
   },
   "file_extension": ".py",
   "mimetype": "text/x-python",
   "name": "python",
   "nbconvert_exporter": "python",
   "pygments_lexer": "ipython3",
   "version": "3.13.5"
  }
 },
 "nbformat": 4,
 "nbformat_minor": 5
}
