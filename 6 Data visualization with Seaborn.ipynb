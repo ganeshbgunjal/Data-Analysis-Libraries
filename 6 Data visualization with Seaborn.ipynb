{
 "cells": [
  {
   "cell_type": "markdown",
   "id": "a47e95ea-ad0a-4479-a31c-a707ff6cf8a6",
   "metadata": {},
   "source": [
    "### Data Visualization with Seaborn:--"
   ]
  },
  {
   "cell_type": "markdown",
   "id": "8718abf1-e1a3-4777-a01c-8045d8112ac3",
   "metadata": {},
   "source": [
    "**Seabon** is a data visualization library that based on matplolib that provides high level interface for drawing attractive and informative statistical graphics. Seaborn helps in creating complex visualizations with just a few lines of code."
   ]
  },
  {
   "cell_type": "code",
   "execution_count": 2,
   "id": "e4fd124e-d6ca-476b-94ec-8b78040e606a",
   "metadata": {},
   "outputs": [],
   "source": [
    "import seaborn as sns"
   ]
  },
  {
   "cell_type": "code",
   "execution_count": null,
   "id": "628eaba8-4bcc-4750-baf9-f27f48150fe2",
   "metadata": {},
   "outputs": [],
   "source": []
  }
 ],
 "metadata": {
  "kernelspec": {
   "display_name": "Python 3 (ipykernel)",
   "language": "python",
   "name": "python3"
  },
  "language_info": {
   "codemirror_mode": {
    "name": "ipython",
    "version": 3
   },
   "file_extension": ".py",
   "mimetype": "text/x-python",
   "name": "python",
   "nbconvert_exporter": "python",
   "pygments_lexer": "ipython3",
   "version": "3.13.5"
  }
 },
 "nbformat": 4,
 "nbformat_minor": 5
}
