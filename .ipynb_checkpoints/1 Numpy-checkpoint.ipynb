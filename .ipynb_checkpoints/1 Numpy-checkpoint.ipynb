{
 "cells": [
  {
   "cell_type": "markdown",
   "id": "499f2aef-6e27-4dd3-99d0-ab93a3162006",
   "metadata": {},
   "source": [
    "### Numpy:- \n",
    "**NumPy(Numerical Python)** is a Python library used for scientific and numerical computing."
   ]
  },
  {
   "cell_type": "markdown",
   "id": "ffa47baf-3ace-425e-ae04-14a50fb69afa",
   "metadata": {},
   "source": [
    "**Numpy:** is a fundamental library for scientific computing. It provides support for arrays and matrices along with a collection of mathematical functions to operate on this data. "
   ]
  },
  {
   "cell_type": "markdown",
   "id": "e1c1e1c3-bd03-41d7-bebf-351bf13d96f6",
   "metadata": {},
   "source": [
    "Key Points:\n",
    "\n",
    "It provides a powerful object called ndarray (N-dimensional array).\n",
    "\n",
    "It is much faster than Python lists for numerical operations.\n",
    "\n",
    "It allows you to do mathematical, statistical, linear algebra, and logical operations easily.\n",
    "\n",
    "Many data science and ML libraries (like pandas, scikit-learn, TensorFlow) are built on top of NumPy."
   ]
  },
  {
   "cell_type": "code",
   "execution_count": 2,
   "id": "e216eb96-42f2-4342-a94c-dca236c760f2",
   "metadata": {},
   "outputs": [],
   "source": [
    "import numpy as np"
   ]
  },
  {
   "cell_type": "code",
   "execution_count": null,
   "id": "a385581e-8e38-4ba0-aa0b-d9730eb4ffb7",
   "metadata": {},
   "outputs": [],
   "source": []
  }
 ],
 "metadata": {
  "kernelspec": {
   "display_name": "Python 3 (ipykernel)",
   "language": "python",
   "name": "python3"
  },
  "language_info": {
   "codemirror_mode": {
    "name": "ipython",
    "version": 3
   },
   "file_extension": ".py",
   "mimetype": "text/x-python",
   "name": "python",
   "nbconvert_exporter": "python",
   "pygments_lexer": "ipython3",
   "version": "3.13.5"
  }
 },
 "nbformat": 4,
 "nbformat_minor": 5
}
