{
 "cells": [
  {
   "cell_type": "markdown",
   "id": "24435b6f-ef57-4c86-9ce1-54d199497cc6",
   "metadata": {},
   "source": [
    "### Data Manipulation with Numpy and Pandas:--"
   ]
  },
  {
   "cell_type": "code",
   "execution_count": null,
   "id": "f27e0850-e2d0-43ee-82a0-fc648515602c",
   "metadata": {},
   "outputs": [],
   "source": []
  }
 ],
 "metadata": {
  "kernelspec": {
   "display_name": "Python 3 (ipykernel)",
   "language": "python",
   "name": "python3"
  },
  "language_info": {
   "codemirror_mode": {
    "name": "ipython",
    "version": 3
   },
   "file_extension": ".py",
   "mimetype": "text/x-python",
   "name": "python",
   "nbconvert_exporter": "python",
   "pygments_lexer": "ipython3",
   "version": "3.13.5"
  }
 },
 "nbformat": 4,
 "nbformat_minor": 5
}
