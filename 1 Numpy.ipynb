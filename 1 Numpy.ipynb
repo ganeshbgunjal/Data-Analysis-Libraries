{
 "cells": [
  {
   "cell_type": "markdown",
   "id": "499f2aef-6e27-4dd3-99d0-ab93a3162006",
   "metadata": {},
   "source": [
    "### Numpy:- \n",
    "**NumPy(Numerical Python)** is a Python library used for scientific and numerical computing."
   ]
  },
  {
   "cell_type": "markdown",
   "id": "ffa47baf-3ace-425e-ae04-14a50fb69afa",
   "metadata": {},
   "source": [
    "**Numpy:** is a fundamental library for scientific computing. It provides support for arrays and matrices along with a collection of mathematical functions to operate on this data. "
   ]
  },
  {
   "cell_type": "markdown",
   "id": "e1c1e1c3-bd03-41d7-bebf-351bf13d96f6",
   "metadata": {},
   "source": [
    "Key Points:\n",
    "\n",
    "It provides a powerful object called ndarray (N-dimensional array).\n",
    "\n",
    "It is much faster than Python lists for numerical operations.\n",
    "\n",
    "It allows you to do mathematical, statistical, linear algebra, and logical operations easily.\n",
    "\n",
    "Many data science and ML libraries (like pandas, scikit-learn, TensorFlow) are built on top of NumPy."
   ]
  },
  {
   "cell_type": "code",
   "execution_count": 2,
   "id": "e216eb96-42f2-4342-a94c-dca236c760f2",
   "metadata": {},
   "outputs": [],
   "source": [
    "import numpy as np"
   ]
  },
  {
   "cell_type": "markdown",
   "id": "4d46c0a8-3869-458f-a2b7-ec07e7a14850",
   "metadata": {},
   "source": [
    "#### Create array using numpy: \n",
    "#### Create 1D array"
   ]
  },
  {
   "cell_type": "code",
   "execution_count": 4,
   "id": "0e75f578-fc92-4935-927f-e8ece927b5e1",
   "metadata": {},
   "outputs": [
    {
     "name": "stdout",
     "output_type": "stream",
     "text": [
      "[1 2 3 4 5]\n",
      "<class 'numpy.ndarray'>\n"
     ]
    }
   ],
   "source": [
    "arr1 = np.array([1,2,3,4,5])\n",
    "print(arr1)\n",
    "print(type(arr1))"
   ]
  },
  {
   "cell_type": "code",
   "execution_count": 6,
   "id": "7ecb1f29-adb8-4c5b-b5bd-431bf754b72c",
   "metadata": {},
   "outputs": [
    {
     "data": {
      "text/plain": [
       "(5,)"
      ]
     },
     "execution_count": 6,
     "metadata": {},
     "output_type": "execute_result"
    }
   ],
   "source": [
    "arr1.shape    #5 rows and 0 column"
   ]
  },
  {
   "cell_type": "markdown",
   "id": "726b2108-b4e3-4add-bbb5-bb4dcf3aa7f1",
   "metadata": {},
   "source": [
    "#### Create 2D array:"
   ]
  },
  {
   "cell_type": "code",
   "execution_count": 8,
   "id": "624df9c2-6b78-4cb5-a1a1-d6651a128639",
   "metadata": {},
   "outputs": [
    {
     "name": "stdout",
     "output_type": "stream",
     "text": [
      "<class 'numpy.ndarray'>\n"
     ]
    }
   ],
   "source": [
    "arr2 = np.array([1,2,3,4,5])\n",
    "arr2.reshape(1,5)\n",
    "print(type(arr2))"
   ]
  },
  {
   "cell_type": "code",
   "execution_count": 9,
   "id": "9a4e452a-3adf-4f02-9bbb-d62a957d44ae",
   "metadata": {},
   "outputs": [
    {
     "name": "stdout",
     "output_type": "stream",
     "text": [
      "(2, 5)\n",
      "[[1 2 3 4 5]\n",
      " [2 3 4 5 6]]\n"
     ]
    }
   ],
   "source": [
    "arr3 = np.array([[1,2,3,4,5],[2,3,4,5,6]])\n",
    "print(arr3.shape)\n",
    "print(arr3)"
   ]
  },
  {
   "cell_type": "code",
   "execution_count": 10,
   "id": "e4ae2de0-bf68-43c7-af66-9fa214e1ab3d",
   "metadata": {},
   "outputs": [
    {
     "data": {
      "text/plain": [
       "array([0, 2, 4, 6, 8])"
      ]
     },
     "execution_count": 10,
     "metadata": {},
     "output_type": "execute_result"
    }
   ],
   "source": [
    "np.arange(0,10,2)"
   ]
  },
  {
   "cell_type": "code",
   "execution_count": 12,
   "id": "6798358d-6b36-4125-9a4c-b8ec9cd7157c",
   "metadata": {},
   "outputs": [
    {
     "data": {
      "text/plain": [
       "array([[0],\n",
       "       [2],\n",
       "       [4],\n",
       "       [6],\n",
       "       [8]])"
      ]
     },
     "execution_count": 12,
     "metadata": {},
     "output_type": "execute_result"
    }
   ],
   "source": [
    "np.arange(0,10,2).reshape(5,1)    #5 rows and 1 column"
   ]
  },
  {
   "cell_type": "code",
   "execution_count": 15,
   "id": "3116503e-8f81-4c2f-98bb-6056282b11b6",
   "metadata": {},
   "outputs": [
    {
     "data": {
      "text/plain": [
       "array([[1., 1., 1., 1.],\n",
       "       [1., 1., 1., 1.],\n",
       "       [1., 1., 1., 1.]])"
      ]
     },
     "execution_count": 15,
     "metadata": {},
     "output_type": "execute_result"
    }
   ],
   "source": [
    "np.ones((3,4))"
   ]
  },
  {
   "cell_type": "code",
   "execution_count": 16,
   "id": "37fad7d5-730a-4d16-91c5-6b2cc1c16940",
   "metadata": {},
   "outputs": [
    {
     "data": {
      "text/plain": [
       "array([[0., 0., 0., 0.],\n",
       "       [0., 0., 0., 0.],\n",
       "       [0., 0., 0., 0.]])"
      ]
     },
     "execution_count": 16,
     "metadata": {},
     "output_type": "execute_result"
    }
   ],
   "source": [
    "np.zeros((3,4))"
   ]
  },
  {
   "cell_type": "markdown",
   "id": "c756f1d7-75eb-416c-828f-a2f7323a5275",
   "metadata": {},
   "source": [
    "#### Identity Matrix:-"
   ]
  },
  {
   "cell_type": "code",
   "execution_count": 18,
   "id": "20ebc5cd-fd1d-4548-b269-53117bb3d9e5",
   "metadata": {},
   "outputs": [
    {
     "data": {
      "text/plain": [
       "array([[1., 0., 0., 0.],\n",
       "       [0., 1., 0., 0.],\n",
       "       [0., 0., 1., 0.],\n",
       "       [0., 0., 0., 1.]])"
      ]
     },
     "execution_count": 18,
     "metadata": {},
     "output_type": "execute_result"
    }
   ],
   "source": [
    "np.eye(4)   #diagonal elements will be one."
   ]
  },
  {
   "cell_type": "code",
   "execution_count": 19,
   "id": "d95da153-2fea-4777-bb66-dfb1b980b6ec",
   "metadata": {},
   "outputs": [
    {
     "name": "stdout",
     "output_type": "stream",
     "text": [
      "Array: [[1 2 3]\n",
      " [4 5 6]]\n",
      "Shape: (2, 3)\n",
      "Number of dimensions: 2\n",
      "Size of array: 6\n",
      "Array Data type: int64\n",
      "Item size(in bytes): 8\n"
     ]
    }
   ],
   "source": [
    "arr = np.array([[1,2,3],[4,5,6]])\n",
    "\n",
    "print(f'Array: {arr}')\n",
    "print(f'Shape: {arr.shape}')\n",
    "print(f'Number of dimensions: {arr.ndim}')\n",
    "print(f'Size of array: {arr.size}')\n",
    "print(f'Array Data type: {arr.dtype}')\n",
    "print(f'Item size(in bytes): {arr.itemsize}')"
   ]
  },
  {
   "cell_type": "markdown",
   "id": "4d6c5915-6216-4991-aeb6-9377414a5643",
   "metadata": {},
   "source": [
    "#### Numpy Vectorize Operations:--"
   ]
  },
  {
   "cell_type": "code",
   "execution_count": 21,
   "id": "f01fef5e-4c57-4a30-b40b-aa9a8b36841e",
   "metadata": {},
   "outputs": [],
   "source": [
    "arr1 = np.array([1,2,3,4,5])\n",
    "arr2 = np.array([10,20,30,40,50])"
   ]
  },
  {
   "cell_type": "markdown",
   "id": "1f10c44b-3a30-43a1-8c65-60adda9e55a5",
   "metadata": {},
   "source": [
    "#### Elementwise addition, Substraction, Multiplication, Division:--"
   ]
  },
  {
   "cell_type": "code",
   "execution_count": 26,
   "id": "d4264d83-419b-4029-a083-080546349e67",
   "metadata": {},
   "outputs": [
    {
     "name": "stdout",
     "output_type": "stream",
     "text": [
      "Addition: [11 22 33 44 55]\n",
      "Substraction: [ -9 -18 -27 -36 -45]\n",
      "Multiplication: [ 10  40  90 160 250]\n",
      "Division: [0.1 0.1 0.1 0.1 0.1]\n"
     ]
    }
   ],
   "source": [
    "print(f'Addition: {arr1+arr2}')\n",
    "print(f'Substraction: {arr1-arr2}')      \n",
    "print(f'Multiplication: {arr1*arr2}')\n",
    "print(f'Division: {arr1/arr2}')"
   ]
  },
  {
   "cell_type": "markdown",
   "id": "20581711-d588-4ede-8ecb-0703e456b18e",
   "metadata": {},
   "source": [
    "#### Universal Functions:- "
   ]
  },
  {
   "cell_type": "code",
   "execution_count": 33,
   "id": "fa6aede6-f1c1-4601-8bf4-c060eba473a9",
   "metadata": {},
   "outputs": [
    {
     "name": "stdout",
     "output_type": "stream",
     "text": [
      "Square root: [1.41421356 1.73205081 2.         2.23606798 2.44948974]\n",
      "Exponential: [  7.3890561   20.08553692  54.59815003 148.4131591  403.42879349]\n",
      "Sine: [ 0.90929743  0.14112001 -0.7568025  -0.95892427 -0.2794155 ]\n",
      "Natural Log: [0.69314718 1.09861229 1.38629436 1.60943791 1.79175947]\n"
     ]
    }
   ],
   "source": [
    "arr = np.array([2,3,4,5,6])\n",
    "\n",
    "# square root\n",
    "print(f'Square root: {np.sqrt(arr)}')\n",
    "print(f'Exponential: {np.exp(arr)}')\n",
    "print(f'Sine: {np.sin(arr)}')\n",
    "print(f'Natural Log: {np.log(arr)}')"
   ]
  },
  {
   "cell_type": "markdown",
   "id": "7a6ab05b-443e-42cd-a7c1-59a16fb42686",
   "metadata": {},
   "source": [
    "#### Array Slicing and Indexing:--"
   ]
  },
  {
   "cell_type": "code",
   "execution_count": 35,
   "id": "ccf07e60-7c16-4e94-8310-531ab589a10d",
   "metadata": {},
   "outputs": [
    {
     "name": "stdout",
     "output_type": "stream",
     "text": [
      "Array: \n",
      " [[ 1  2  3  4]\n",
      " [ 5  6  7  8]\n",
      " [ 9 10 11 12]]\n"
     ]
    }
   ],
   "source": [
    "arr = np.array([[1,2,3,4],[5,6,7,8],[9,10,11,12]])\n",
    "print('Array: \\n',arr)"
   ]
  },
  {
   "cell_type": "code",
   "execution_count": 36,
   "id": "f29af379-62cc-4438-a878-7bc6c0ae1782",
   "metadata": {},
   "outputs": [
    {
     "data": {
      "text/plain": [
       "np.int64(1)"
      ]
     },
     "execution_count": 36,
     "metadata": {},
     "output_type": "execute_result"
    }
   ],
   "source": [
    "arr[0][0]"
   ]
  },
  {
   "cell_type": "code",
   "execution_count": 37,
   "id": "1c9e0c60-d812-474d-8b02-feb9c2c41c9c",
   "metadata": {},
   "outputs": [
    {
     "data": {
      "text/plain": [
       "np.int64(4)"
      ]
     },
     "execution_count": 37,
     "metadata": {},
     "output_type": "execute_result"
    }
   ],
   "source": [
    "arr[0][3]\n"
   ]
  },
  {
   "cell_type": "code",
   "execution_count": 38,
   "id": "e38326ab-6414-478e-bdbe-94b1d0b4be35",
   "metadata": {},
   "outputs": [
    {
     "data": {
      "text/plain": [
       "np.int64(4)"
      ]
     },
     "execution_count": 38,
     "metadata": {},
     "output_type": "execute_result"
    }
   ],
   "source": [
    "arr[0,3]   #This is concise way to access element.\n"
   ]
  },
  {
   "cell_type": "code",
   "execution_count": 39,
   "id": "b3e0b5e3-47fe-4a2a-82d6-3016221e1812",
   "metadata": {},
   "outputs": [
    {
     "data": {
      "text/plain": [
       "np.int64(11)"
      ]
     },
     "execution_count": 39,
     "metadata": {},
     "output_type": "execute_result"
    }
   ],
   "source": [
    "arr[2,2]\n"
   ]
  },
  {
   "cell_type": "code",
   "execution_count": 40,
   "id": "6f453a9e-bd54-4caf-ae00-a3979ad22986",
   "metadata": {},
   "outputs": [
    {
     "data": {
      "text/plain": [
       "array([[ 7,  8],\n",
       "       [11, 12]])"
      ]
     },
     "execution_count": 40,
     "metadata": {},
     "output_type": "execute_result"
    }
   ],
   "source": [
    "arr[1:,2:]"
   ]
  },
  {
   "cell_type": "code",
   "execution_count": 41,
   "id": "a9f56a5c-5225-4940-a2ef-67f0e7e9b5c1",
   "metadata": {},
   "outputs": [
    {
     "data": {
      "text/plain": [
       "array([[ 1,  2,  3,  4],\n",
       "       [ 5,  6,  7,  8],\n",
       "       [ 9, 10, 11, 12]])"
      ]
     },
     "execution_count": 41,
     "metadata": {},
     "output_type": "execute_result"
    }
   ],
   "source": [
    "arr"
   ]
  },
  {
   "cell_type": "code",
   "execution_count": 44,
   "id": "6614a303-f64b-4280-b75b-8420eca1b05e",
   "metadata": {},
   "outputs": [
    {
     "data": {
      "text/plain": [
       "array([[ 6,  7],\n",
       "       [10, 11]])"
      ]
     },
     "execution_count": 44,
     "metadata": {},
     "output_type": "execute_result"
    }
   ],
   "source": [
    "arr[1:,1:3]"
   ]
  },
  {
   "cell_type": "code",
   "execution_count": 47,
   "id": "5ca4cd14-b0a8-458a-8eab-5923c4429443",
   "metadata": {},
   "outputs": [
    {
     "data": {
      "text/plain": [
       "array([[2, 3],\n",
       "       [6, 7]])"
      ]
     },
     "execution_count": 47,
     "metadata": {},
     "output_type": "execute_result"
    }
   ],
   "source": [
    "arr[0:2,1:3]"
   ]
  },
  {
   "cell_type": "code",
   "execution_count": null,
   "id": "ac166f9f-fa3b-4fb6-88f0-df87cd2d3465",
   "metadata": {},
   "outputs": [],
   "source": []
  }
 ],
 "metadata": {
  "kernelspec": {
   "display_name": "Python 3 (ipykernel)",
   "language": "python",
   "name": "python3"
  },
  "language_info": {
   "codemirror_mode": {
    "name": "ipython",
    "version": 3
   },
   "file_extension": ".py",
   "mimetype": "text/x-python",
   "name": "python",
   "nbconvert_exporter": "python",
   "pygments_lexer": "ipython3",
   "version": "3.13.5"
  }
 },
 "nbformat": 4,
 "nbformat_minor": 5
}
