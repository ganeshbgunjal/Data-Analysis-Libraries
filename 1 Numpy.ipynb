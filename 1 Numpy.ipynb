{
 "cells": [
  {
   "cell_type": "markdown",
   "id": "499f2aef-6e27-4dd3-99d0-ab93a3162006",
   "metadata": {},
   "source": [
    "### Numpy:- \n",
    "**NumPy(Numerical Python)** is a Python library used for scientific and numerical computing."
   ]
  },
  {
   "cell_type": "markdown",
   "id": "ffa47baf-3ace-425e-ae04-14a50fb69afa",
   "metadata": {},
   "source": [
    "**Numpy:** is a fundamental library for scientific computing. It provides support for arrays and matrices along with a collection of mathematical functions to operate on this data. "
   ]
  },
  {
   "cell_type": "markdown",
   "id": "e1c1e1c3-bd03-41d7-bebf-351bf13d96f6",
   "metadata": {},
   "source": [
    "Key Points:\n",
    "\n",
    "It provides a powerful object called ndarray (N-dimensional array).\n",
    "\n",
    "It is much faster than Python lists for numerical operations.\n",
    "\n",
    "It allows you to do mathematical, statistical, linear algebra, and logical operations easily.\n",
    "\n",
    "Many data science and ML libraries (like pandas, scikit-learn, TensorFlow) are built on top of NumPy."
   ]
  },
  {
   "cell_type": "code",
   "execution_count": 2,
   "id": "e216eb96-42f2-4342-a94c-dca236c760f2",
   "metadata": {},
   "outputs": [],
   "source": [
    "import numpy as np"
   ]
  },
  {
   "cell_type": "markdown",
   "id": "4d46c0a8-3869-458f-a2b7-ec07e7a14850",
   "metadata": {},
   "source": [
    "#### Create array using numpy: \n",
    "#### Create 1D array"
   ]
  },
  {
   "cell_type": "code",
   "execution_count": 4,
   "id": "0e75f578-fc92-4935-927f-e8ece927b5e1",
   "metadata": {},
   "outputs": [
    {
     "name": "stdout",
     "output_type": "stream",
     "text": [
      "[1 2 3 4 5]\n",
      "<class 'numpy.ndarray'>\n"
     ]
    }
   ],
   "source": [
    "arr1 = np.array([1,2,3,4,5])\n",
    "print(arr1)\n",
    "print(type(arr1))"
   ]
  },
  {
   "cell_type": "code",
   "execution_count": 6,
   "id": "7ecb1f29-adb8-4c5b-b5bd-431bf754b72c",
   "metadata": {},
   "outputs": [
    {
     "data": {
      "text/plain": [
       "(5,)"
      ]
     },
     "execution_count": 6,
     "metadata": {},
     "output_type": "execute_result"
    }
   ],
   "source": [
    "arr1.shape    #5 rows and 0 column"
   ]
  },
  {
   "cell_type": "markdown",
   "id": "726b2108-b4e3-4add-bbb5-bb4dcf3aa7f1",
   "metadata": {},
   "source": [
    "#### Create 2D array:"
   ]
  },
  {
   "cell_type": "code",
   "execution_count": 8,
   "id": "624df9c2-6b78-4cb5-a1a1-d6651a128639",
   "metadata": {},
   "outputs": [
    {
     "name": "stdout",
     "output_type": "stream",
     "text": [
      "<class 'numpy.ndarray'>\n"
     ]
    }
   ],
   "source": [
    "arr2 = np.array([1,2,3,4,5])\n",
    "arr2.reshape(1,5)\n",
    "print(type(arr2))"
   ]
  },
  {
   "cell_type": "code",
   "execution_count": 9,
   "id": "9a4e452a-3adf-4f02-9bbb-d62a957d44ae",
   "metadata": {},
   "outputs": [
    {
     "name": "stdout",
     "output_type": "stream",
     "text": [
      "(2, 5)\n",
      "[[1 2 3 4 5]\n",
      " [2 3 4 5 6]]\n"
     ]
    }
   ],
   "source": [
    "arr3 = np.array([[1,2,3,4,5],[2,3,4,5,6]])\n",
    "print(arr3.shape)\n",
    "print(arr3)"
   ]
  },
  {
   "cell_type": "code",
   "execution_count": 10,
   "id": "e4ae2de0-bf68-43c7-af66-9fa214e1ab3d",
   "metadata": {},
   "outputs": [
    {
     "data": {
      "text/plain": [
       "array([0, 2, 4, 6, 8])"
      ]
     },
     "execution_count": 10,
     "metadata": {},
     "output_type": "execute_result"
    }
   ],
   "source": [
    "np.arange(0,10,2)"
   ]
  },
  {
   "cell_type": "code",
   "execution_count": 12,
   "id": "6798358d-6b36-4125-9a4c-b8ec9cd7157c",
   "metadata": {},
   "outputs": [
    {
     "data": {
      "text/plain": [
       "array([[0],\n",
       "       [2],\n",
       "       [4],\n",
       "       [6],\n",
       "       [8]])"
      ]
     },
     "execution_count": 12,
     "metadata": {},
     "output_type": "execute_result"
    }
   ],
   "source": [
    "np.arange(0,10,2).reshape(5,1)    #5 rows and 1 column"
   ]
  },
  {
   "cell_type": "code",
   "execution_count": 15,
   "id": "3116503e-8f81-4c2f-98bb-6056282b11b6",
   "metadata": {},
   "outputs": [
    {
     "data": {
      "text/plain": [
       "array([[1., 1., 1., 1.],\n",
       "       [1., 1., 1., 1.],\n",
       "       [1., 1., 1., 1.]])"
      ]
     },
     "execution_count": 15,
     "metadata": {},
     "output_type": "execute_result"
    }
   ],
   "source": [
    "np.ones((3,4))"
   ]
  },
  {
   "cell_type": "code",
   "execution_count": 16,
   "id": "37fad7d5-730a-4d16-91c5-6b2cc1c16940",
   "metadata": {},
   "outputs": [
    {
     "data": {
      "text/plain": [
       "array([[0., 0., 0., 0.],\n",
       "       [0., 0., 0., 0.],\n",
       "       [0., 0., 0., 0.]])"
      ]
     },
     "execution_count": 16,
     "metadata": {},
     "output_type": "execute_result"
    }
   ],
   "source": [
    "np.zeros((3,4))"
   ]
  },
  {
   "cell_type": "markdown",
   "id": "c756f1d7-75eb-416c-828f-a2f7323a5275",
   "metadata": {},
   "source": [
    "#### Identity Matrix:-"
   ]
  },
  {
   "cell_type": "code",
   "execution_count": 18,
   "id": "20ebc5cd-fd1d-4548-b269-53117bb3d9e5",
   "metadata": {},
   "outputs": [
    {
     "data": {
      "text/plain": [
       "array([[1., 0., 0., 0.],\n",
       "       [0., 1., 0., 0.],\n",
       "       [0., 0., 1., 0.],\n",
       "       [0., 0., 0., 1.]])"
      ]
     },
     "execution_count": 18,
     "metadata": {},
     "output_type": "execute_result"
    }
   ],
   "source": [
    "np.eye(4)   #diagonal elements will be one."
   ]
  },
  {
   "cell_type": "code",
   "execution_count": null,
   "id": "d95da153-2fea-4777-bb66-dfb1b980b6ec",
   "metadata": {},
   "outputs": [],
   "source": []
  }
 ],
 "metadata": {
  "kernelspec": {
   "display_name": "Python 3 (ipykernel)",
   "language": "python",
   "name": "python3"
  },
  "language_info": {
   "codemirror_mode": {
    "name": "ipython",
    "version": 3
   },
   "file_extension": ".py",
   "mimetype": "text/x-python",
   "name": "python",
   "nbconvert_exporter": "python",
   "pygments_lexer": "ipython3",
   "version": "3.13.5"
  }
 },
 "nbformat": 4,
 "nbformat_minor": 5
}
