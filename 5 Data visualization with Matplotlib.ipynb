{
 "cells": [
  {
   "cell_type": "markdown",
   "id": "df102a0b-382c-46a8-9f98-234b4a5922a8",
   "metadata": {},
   "source": [
    "### Data Visualization with Matplotlib:---"
   ]
  },
  {
   "cell_type": "markdown",
   "id": "c74f2429-084d-4008-8db6-b41499245ee0",
   "metadata": {},
   "source": [
    "**Matplotlib** is a powerful plotting library in python that enables the creation of static, animated and interactive visualisations. It widely used for data visualisation in data science and analytics . "
   ]
  },
  {
   "cell_type": "code",
   "execution_count": 2,
   "id": "bd954b7f-ae23-41dd-9db7-99f686d8d94b",
   "metadata": {},
   "outputs": [],
   "source": [
    "import matplotlib.pyplot as plt"
   ]
  },
  {
   "cell_type": "code",
   "execution_count": null,
   "id": "a55443b9-3803-4feb-bc6a-7105e7ccb32a",
   "metadata": {},
   "outputs": [],
   "source": [
    "x = [1,2,3,4,5]\n",
    "y = [1,]"
   ]
  }
 ],
 "metadata": {
  "kernelspec": {
   "display_name": "Python 3 (ipykernel)",
   "language": "python",
   "name": "python3"
  },
  "language_info": {
   "codemirror_mode": {
    "name": "ipython",
    "version": 3
   },
   "file_extension": ".py",
   "mimetype": "text/x-python",
   "name": "python",
   "nbconvert_exporter": "python",
   "pygments_lexer": "ipython3",
   "version": "3.13.5"
  }
 },
 "nbformat": 4,
 "nbformat_minor": 5
}
